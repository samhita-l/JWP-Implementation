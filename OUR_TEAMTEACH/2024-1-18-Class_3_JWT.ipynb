{
 "cells": [
  {
   "cell_type": "markdown",
   "metadata": {},
   "source": [
    "---\n",
    "comments: true\n",
    "layout: notebook\n",
    "title: Class 3- JWT Implimentation\n",
    "description: Teamteach by Lindsay, Anika, Grace, Samhita\n",
    "type: collab\n",
    "courses: { csa: {week: 19} }\n",
    "---"
   ]
  },
  {
   "cell_type": "markdown",
   "metadata": {},
   "source": [
    "# JWT Implimentation\n",
    "\n",
    "![JWT](https://files.catbox.moe/t69vm3.png)\n",
    "\n",
    "## What is a JWT (JSON Web Token)?\n",
    "\n",
    "- JSON Web Tokens (JWT) serve as a secure means of transmitting information in JSON format, providing a way to establish trust between different parties in a web application. \n",
    "- Typically used to transmit information about an authenticated user and additional metadata (usernames, user ID, email, roles, etc.).\n",
    "\n",
    "### Parts of a JWT:\n",
    "\n",
    "![Parts](https://files.catbox.moe/19taua.png)\n",
    "\n",
    "- Each section is divided by a dot\n",
    "- Header (red): Contains information about how the JWT is encoded, such as the type of token (JWT) and the signing algorithm being used.\n",
    "- Payload (purple): Contains the claims. Claims are statements about an entity (typically, the user) and additional data. There are three types of claims: registered, public, and private claims.\n",
    "- Signature (teal): Created by combining the encoded header, encoded payload, and a secret (or key) using the specified algorithm. This signature is used to verify that the sender of the JWT is who it says it is and to ensure that the message wasn't changed along the way.\n",
    "\n",
    "### HMAC and RSA or ECDSA Keys:\n",
    "\n",
    "- Used for signing JWT tokens\n",
    "- HMAC Algorithm (Secret Key): \n",
    "  - HMAC (Hash-based Message Authentication Code)\n",
    "  - A secret key is used to both create and verify the signature.\n",
    "  - The issuer (who creates the JWT) uses a secret key and a hashing algorithm to create a signature by combining the encoded header and payload.\n",
    "  - The recipient (who validates the JWT) uses the same secret key to independently calculate the signature and verify that it matches the one provided in the JWT.\n",
    "  - Symmetric key solution: same key used for signing and verification\n",
    "- RSA or ECDSA (Public/Private Key Pair):\n",
    "  - RSA (Rivest–Shamir–Adleman) or ECDSA (Elliptic Curve Digital Signature Algorithm)\n",
    "  - A pair of keys is used: a private key for signing and a corresponding public key for verification.\n",
    "  - The issuer signs the JWT using their private key, and the signature is included in the JWT.\n",
    "  - The recipient, who wants to verify the JWT, uses the public key associated with the issuer to check the signature's validity.\n",
    "  - Asymmetric key solution: private key is kept secret, and only the public key is shared."
   ]
  },
  {
   "cell_type": "markdown",
   "metadata": {},
   "source": [
    "## Rest APIs and JSON Web Tokens\n",
    "\n",
    "### Rest APIs:\n",
    "\n",
    "- REST (Representational State Transfer) API (Application Programming Interface)\n",
    "- Architectural style for designing networked applications\n",
    "- Set of rules and conventions for building and interacting with web services that adhere to the principles of REST.\n",
    "\n",
    "Principals of REST:\n",
    "- Statelessness: Each request from a client to a server must contain all the information needed to understand and fulfill the request. The server should not store any information about the client's state between requests. This makes the system scalable and easy to maintain.\n",
    "- Client-Server Architecture: The client and server are separate entities that communicate over a network. The client is responsible for the user interface and user experience, while the server is responsible for processing requests, managing resources, and handling business logic.\n",
    "- Uniform Interface: RESTful APIs have a uniform and consistent interface, which simplifies the architecture and promotes a clear separation of concerns. The uniform interface is defined by several constraints, including resource identification through URIs (Uniform Resource Identifiers), resource manipulation through representations, and self-descriptive messages.\n",
    "- Representation: Resources can have multiple representations, such as JSON or XML, which can be selected based on the client's needs or capabilities. The representation contains the current state of the resource.\n",
    "\n",
    "### REST APIs and JWT:\n",
    "\n",
    "- "
   ]
  },
  {
   "cell_type": "markdown",
   "metadata": {},
   "source": [
    "## Implimenting JWT in Flask"
   ]
  },
  {
   "cell_type": "markdown",
   "metadata": {},
   "source": [
    "#### 1) Install Flas-JWT-Extended"
   ]
  },
  {
   "cell_type": "code",
   "execution_count": null,
   "metadata": {
    "vscode": {
     "languageId": "plaintext"
    }
   },
   "outputs": [],
   "source": [
    "pip install Flask-JWT-Extended"
   ]
  },
  {
   "cell_type": "markdown",
   "metadata": {},
   "source": [
    "#### 2) Include JWT Library in Flask App Setup"
   ]
  },
  {
   "cell_type": "code",
   "execution_count": null,
   "metadata": {},
   "outputs": [],
   "source": [
    "from flask_jwt_extended import JWTManager\n",
    "\n",
    "# You don't have to add this again if you already have it.\n",
    "app = Flask(__name__)\n",
    "\n",
    "# Setup the Flask-JWT-Extended extension\n",
    "app.config[\"JWT_SECRET_KEY\"] = \"secret\"  # Remember to change \"secret\" to a more complex key\n",
    "jwt = JWTManager(app)"
   ]
  },
  {
   "cell_type": "markdown",
   "metadata": {},
   "source": [
    "#### 3) Create an Endpoint for Generating Tokens\n",
    "\n",
    "Using POST because it is creating tokens (POST is for creation)"
   ]
  },
  {
   "cell_type": "code",
   "execution_count": null,
   "metadata": {},
   "outputs": [],
   "source": [
    "POST /token\n",
    "Content-type: application/json\n",
    "Body:\n",
    "{\n",
    "     \"username\": \"alesanchezr\",\n",
    "     \"password\": \"12341234\"\n",
    "}"
   ]
  },
  {
   "cell_type": "code",
   "execution_count": null,
   "metadata": {},
   "outputs": [],
   "source": [
    "from flask_jwt_extended import create_access_token\n",
    "\n",
    "# Create a route to authenticate your users and return JWT Token\n",
    "# The create_access_token() function is used to actually generate the JWT\n",
    "@app.route(\"/token\", methods=[\"POST\"])\n",
    "def create_token():\n",
    "    username = request.json.get(\"username\", None)\n",
    "    password = request.json.get(\"password\", None)\n",
    "\n",
    "    # Query your database for username and password\n",
    "    user = User.query.filter_by(username=username, password=password).first()\n",
    "\n",
    "    if user is None:\n",
    "        # The user was not found on the database\n",
    "        return jsonify({\"msg\": \"Bad username or password\"}), 401\n",
    "    \n",
    "    # Create a new token with the user id inside\n",
    "    access_token = create_access_token(identity=user.id)\n",
    "    return jsonify({ \"token\": access_token, \"user_id\": user.id })"
   ]
  },
  {
   "cell_type": "markdown",
   "metadata": {},
   "source": [
    "#### 4) Use @jwt_required() Decorator on Private Routes\n",
    "\n",
    "Endpoints that require authorization (private endpoints) should use the @jwt_required() decorator. You can retrieve valid, authenticated user information using the get_jwt_identity function. "
   ]
  },
  {
   "cell_type": "code",
   "execution_count": null,
   "metadata": {},
   "outputs": [],
   "source": [
    "from flask_jwt_extended import jwt_required, get_jwt_identity\n",
    "\n",
    "# Protect a route with jwt_required, which will kick out requests without a valid JWT\n",
    "@app.route(\"/protected\", methods=[\"GET\"])\n",
    "@jwt_required()\n",
    "def protected():\n",
    "    # Access the identity of the current user with get_jwt_identity\n",
    "    current_user_id = get_jwt_identity()\n",
    "    user = User.query.get(current_user_id)\n",
    "    \n",
    "    return jsonify({\"id\": user.id, \"username\": user.username }), 200"
   ]
  },
  {
   "cell_type": "markdown",
   "metadata": {},
   "source": [
    "## Implimenting JWT in Front-End"
   ]
  },
  {
   "cell_type": "markdown",
   "metadata": {},
   "source": [
    "#### 1) Create a New Token\n",
    "\n",
    "Based on earlier endpoints, we have to POST /token with username + password information in request body."
   ]
  },
  {
   "cell_type": "code",
   "execution_count": null,
   "metadata": {
    "vscode": {
     "languageId": "javascript"
    }
   },
   "outputs": [],
   "source": [
    "const login = async (username, password) => {\n",
    "     const resp = await fetch(`https://your_api.com/token`, { \n",
    "          method: \"POST\",\n",
    "          headers: { \"Content-Type\": \"application/json\" },\n",
    "          body: JSON.stringify({ username, password }) \n",
    "     })\n",
    "\n",
    "     if(!resp.ok) throw Error(\"There was a problem in the login request\")\n",
    "\n",
    "     if(resp.status === 401){\n",
    "          throw(\"Invalid credentials\")\n",
    "     }\n",
    "     else if(resp.status === 400){\n",
    "          throw (\"Invalid email or password format\")\n",
    "     }\n",
    "     const data = await resp.json()\n",
    "     // Save your token in the localStorage\n",
    "     // Also you should set your user into the store using the setItem function\n",
    "     localStorage.setItem(\"jwt-token\", data.token);\n",
    "\n",
    "     return data\n",
    "}"
   ]
  },
  {
   "cell_type": "markdown",
   "metadata": {},
   "source": [
    "#### 2) Retrieving Information\n",
    "\n",
    "Now, lets say I've logged in to the front-end application and I want to retrieve sensitive data:"
   ]
  },
  {
   "cell_type": "code",
   "execution_count": null,
   "metadata": {
    "vscode": {
     "languageId": "javascript"
    }
   },
   "outputs": [],
   "source": [
    "// Assuming \"/protected\" is a private endpoint\n",
    "const getMyTasks = async () => {\n",
    "     // Retrieve token from localStorage\n",
    "     const token = localStorage.getItem('jwt-token');\n",
    "\n",
    "     const resp = await fetch(`https://your_api.com/protected`, {\n",
    "        method: 'GET',\n",
    "        headers: { \n",
    "          \"Content-Type\": \"application/json\",\n",
    "          'Authorization': 'Bearer ' + token // ⬅⬅⬅ authorization token\n",
    "        } \n",
    "     });\n",
    "\n",
    "     if(!resp.ok) {\n",
    "          throw Error(\"There was a problem in the login request\")\n",
    "     } else if(resp.status === 403) {\n",
    "          throw Error(\"Missing or invalid token\");\n",
    "     } else {\n",
    "         throw Error(\"Unknown error\");\n",
    "     }\n",
    "\n",
    "     const data = await resp.json();\n",
    "     console.log(\"This is the data you requested\", data);\n",
    "     return data\n",
    "}"
   ]
  }
 ],
 "metadata": {
  "language_info": {
   "name": "python"
  },
  "orig_nbformat": 4
 },
 "nbformat": 4,
 "nbformat_minor": 2
}
