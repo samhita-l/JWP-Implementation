{
 "cells": [
  {
   "cell_type": "markdown",
   "metadata": {},
   "source": [
    "---\n",
    "comments: true\n",
    "layout: notebook\n",
    "title: Class 3- JWT Implimentation\n",
    "description: Teamteach by Lindsay, Anika, Grace, Samhita\n",
    "type: collab\n",
    "courses: { csa: {week: 19} }\n",
    "---"
   ]
  },
  {
   "cell_type": "markdown",
   "metadata": {},
   "source": [
    "# JWT Implimentation\n",
    "\n",
    "## What is a JWT (Java Web Token)?\n",
    "\n",
    "- Java Web Tokens (JWT) serve as a secure means of transmitting information in JSON format, providing a way to establish trust between different parties in a web application. \n",
    "\n",
    "Imagine JWT as a digital envelope that holds essential information securely:\n",
    "\n",
    "Three Main Components:\n",
    "\n",
    "Header: Specifies the token type and the signing algorithm, acting as a label on the envelope.\n",
    "Payload: Encodes significant user details (e.g., user ID, name, roles) equivalent to the letter inside the envelope.\n",
    "Signature: Created by combining the encoded Header and Payload with a secret key, functioning as a unique stamp to seal the envelope.\n",
    "Token Integrity Assurance: The Signature ensures the token's integrity; tampering with the Header or Payload breaks the seal, rendering the token invalid.\n",
    "\n",
    "Stateless Nature of JWT Tokens: These tokens are stateless, implying no server-side storage. Analogous to a school locker key, the server only verifies the validity of the key without storing belongings.\n",
    "\n",
    "Authorization Mechanism: To restrict token usage to authorized individuals, a secret key is used for signing and verifying authenticity. This process is akin to a secret handshake – knowing it grants access.\n",
    "\n",
    "Building Blocks Analogy: These JWT concepts serve as foundational blocks facilitating secure communication across different parts of a web application."
   ]
  }
 ],
 "metadata": {
  "language_info": {
   "name": "python"
  },
  "orig_nbformat": 4
 },
 "nbformat": 4,
 "nbformat_minor": 2
}
